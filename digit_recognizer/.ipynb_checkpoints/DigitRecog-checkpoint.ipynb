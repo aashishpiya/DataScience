{
 "cells": [
  {
   "cell_type": "code",
   "execution_count": 1,
   "metadata": {},
   "outputs": [],
   "source": [
    "import numpy as np \n",
    "import pandas as pd\n",
    "import matplotlib.pyplot as plt \n",
    "from scipy.stats import multivariate_normal as mvn\n",
    "from scipy.stats import multinomial as mnd\n",
    "from sklearn.naive_bayes import MultinomialNB\n",
    "from scipy.stats import bernoulli as ber\n",
    "from sklearn import model_selection\n",
    "from sklearn.model_selection import KFold\n",
    "from sklearn.metrics import classification_report\n",
    "from sklearn.metrics import confusion_matrix\n",
    "\n",
    "\n",
    "%matplotlib inline"
   ]
  },
  {
   "cell_type": "code",
   "execution_count": 2,
   "metadata": {},
   "outputs": [],
   "source": [
    "uspsdata=pd.read_csv(\"usps_digit_recognizer.csv\")"
   ]
  },
  {
   "cell_type": "code",
   "execution_count": 4,
   "metadata": {},
   "outputs": [],
   "source": [
    "#uspsdata.head(1)"
   ]
  },
  {
   "cell_type": "code",
   "execution_count": 382,
   "metadata": {},
   "outputs": [],
   "source": [
    "# changing the columns  to put data in X,y format \n",
    "labl = uspsdata.pop('label')    # save the first column in \"labl\" \n",
    "uspsdata['label'] = labl        # adds a column label to the dataframe with the values saved in \"labl\""
   ]
  },
  {
   "cell_type": "code",
   "execution_count": 383,
   "metadata": {},
   "outputs": [],
   "source": [
    "#uspsdata.head(1)"
   ]
  },
  {
   "cell_type": "code",
   "execution_count": 384,
   "metadata": {},
   "outputs": [],
   "source": [
    "#dataframe into numpy array\n",
    "data=uspsdata.to_numpy()"
   ]
  },
  {
   "cell_type": "code",
   "execution_count": 385,
   "metadata": {},
   "outputs": [],
   "source": [
    "#data.shape"
   ]
  },
  {
   "cell_type": "code",
   "execution_count": 386,
   "metadata": {},
   "outputs": [],
   "source": [
    "X = data[:,:-1]\n",
    "y = data[:,-1]"
   ]
  },
  {
   "cell_type": "code",
   "execution_count": 431,
   "metadata": {},
   "outputs": [
    {
     "data": {
      "text/plain": [
       "(42000, 784)"
      ]
     },
     "execution_count": 431,
     "metadata": {},
     "output_type": "execute_result"
    }
   ],
   "source": [
    "X.shape\n",
    "#y.shape"
   ]
  },
  {
   "cell_type": "code",
   "execution_count": 388,
   "metadata": {},
   "outputs": [
    {
     "data": {
      "text/plain": [
       "0    4132\n",
       "1    4684\n",
       "2    4177\n",
       "3    4351\n",
       "4    4072\n",
       "5    3795\n",
       "6    4137\n",
       "7    4401\n",
       "8    4063\n",
       "9    4188\n",
       "Name: label, dtype: int64"
      ]
     },
     "execution_count": 388,
     "metadata": {},
     "output_type": "execute_result"
    }
   ],
   "source": [
    "#check the distribution of digit label data\n",
    "dist = uspsdata['label'].value_counts().sort_index()\n",
    "dist"
   ]
  },
  {
   "cell_type": "code",
   "execution_count": 389,
   "metadata": {},
   "outputs": [
    {
     "data": {
      "image/png": "[encoded data removed]",
      "text/plain": [
       "<Figure size 432x288 with 1 Axes>"
      ]
     },
     "metadata": {
      "needs_background": "light"
     },
     "output_type": "display_data"
    }
   ],
   "source": [
    "#plot the distribution of digit label data\n",
    "dist.plot(kind='bar')\n",
    "plt.tick_params(axis='y', labelsize=17)\n",
    "plt.tick_params(axis='x',rotation=0, labelsize=25)\n",
    "plt.xlabel(\"Digit Labels\", size=25)\n",
    "plt.ylabel(\"Frequency\", size=25)\n",
    "\n",
    "plt.show()\n"
   ]
  },
  {
   "cell_type": "code",
   "execution_count": 390,
   "metadata": {},
   "outputs": [],
   "source": [
    "#normalizing X\n",
    "X = X/255"
   ]
  },
  {
   "cell_type": "code",
   "execution_count": 391,
   "metadata": {},
   "outputs": [
    {
     "data": {
      "text/plain": [
       "<matplotlib.image.AxesImage at 0x1f85238c948>"
      ]
     },
     "execution_count": 391,
     "metadata": {},
     "output_type": "execute_result"
    },
    {
     "data": {
      "image/png": "[encoded data removed]",
      "text/plain": [
       "<Figure size 432x288 with 1 Axes>"
      ]
     },
     "metadata": {
      "needs_background": "light"
     },
     "output_type": "display_data"
    }
   ],
   "source": [
    "#reshape the flat pixels into a matrix of size 28x28 to show it\n",
    "digit = X[999]\n",
    "digit_reshaped = digit.reshape([28, 28]) #since it is a 28x28 size pic we resize it accordingly\n",
    "plt.imshow(digit_reshaped)\n"
   ]
  },
  {
   "cell_type": "code",
   "execution_count": 445,
   "metadata": {},
   "outputs": [
    {
     "data": {
      "image/png": "[encoded data removed]",
      "text/plain": [
       "<Figure size 432x288 with 1 Axes>"
      ]
     },
     "metadata": {
      "needs_background": "light"
     },
     "output_type": "display_data"
    }
   ],
   "source": [
    "digit = X[169]\n",
    "\n",
    "digit_reshaped = digit.reshape([28, 28]) #since it is a 28x28 size pic we resize it accordingly\n",
    "plt.imshow(digit_reshaped, cmap='gray')\n",
    "plt.show()"
   ]
  },
  {
   "cell_type": "code",
   "execution_count": 392,
   "metadata": {},
   "outputs": [],
   "source": [
    "# prepare cross validation\n",
    "kfold = KFold(5, True, 1)\n",
    "# enumerate splits\n",
    "for train_index, test_index in kfold.split(X):\n",
    "    X_train, X_test = X[train_index], X[test_index]\n",
    "for train_index, test_index in kfold.split(y):\n",
    "    y_train, y_test = y[train_index], y[test_index]\n",
    "    "
   ]
  },
  {
   "cell_type": "code",
   "execution_count": 393,
   "metadata": {},
   "outputs": [],
   "source": [
    "#X_train.shape\n",
    "#X_test.shape\n",
    "#y_train.shape\n",
    "#y_test.shape"
   ]
  },
  {
   "cell_type": "code",
   "execution_count": 394,
   "metadata": {},
   "outputs": [],
   "source": [
    "##########Class def Below#########################"
   ]
  },
  {
   "cell_type": "code",
   "execution_count": 395,
   "metadata": {},
   "outputs": [],
   "source": [
    "#class defination for Gaussian Bayes Classification:\n",
    "class GaussianBayes():\n",
    "    def fit(self, X, y, epsilon = 1e-3):\n",
    "        self.likelihoods = dict()\n",
    "        self.priors = dict()\n",
    "        \n",
    "        self.K = set(y.astype(int))\n",
    "        \n",
    "        for k in self.K:\n",
    "            X_k = X[y == k,:]\n",
    "            mu_k = X_k.mean(axis=0)\n",
    "            N_k, D = X_k.shape\n",
    "            \n",
    "            self.likelihoods[k] = {\"mean\": mu_k, \"cov\":(1/(N_k -1))*np.matmul((X_k).T, X_k - mu_k) + epsilon*np.identity(D) }  #made changes in mean and cov\n",
    "            self.priors[k] = len(X_k)/len(X)\n",
    "            \n",
    "    def predict(self, X):\n",
    "        N, D = X.shape\n",
    "        \n",
    "        P_hat = np.zeros((N,len(self.K)))\n",
    "        \n",
    "        for k, l in self.likelihoods.items():\n",
    "            P_hat[:,k] = mvn.logpdf(X, l[\"mean\"], l[\"cov\"]) + np.log(self.priors[k])\n",
    "            \n",
    "        return P_hat.argmax(axis = 1)"
   ]
  },
  {
   "cell_type": "code",
   "execution_count": 396,
   "metadata": {},
   "outputs": [],
   "source": [
    "## initialize the model class\n",
    "gb = GaussianBayes()"
   ]
  },
  {
   "cell_type": "code",
   "execution_count": 397,
   "metadata": {},
   "outputs": [],
   "source": [
    "##train the model and predict\n",
    "\n",
    "gb.fit(X_train, y_train)\n",
    "\n",
    "y_hat = gb.predict(X_test)\n",
    "    "
   ]
  },
  {
   "cell_type": "code",
   "execution_count": 398,
   "metadata": {},
   "outputs": [],
   "source": [
    "#function for accuracy\n",
    "\n",
    "def accuracy(y, y_hat):\n",
    "    return np.mean(y==y_hat)\n"
   ]
  },
  {
   "cell_type": "code",
   "execution_count": 399,
   "metadata": {},
   "outputs": [
    {
     "name": "stdout",
     "output_type": "stream",
     "text": [
      "accuracy:0.9050\n"
     ]
    }
   ],
   "source": [
    "#print the accuracy of the model\n",
    "\n",
    "print(f\"accuracy:{accuracy(y_test, y_hat):0.4f}\")"
   ]
  },
  {
   "cell_type": "code",
   "execution_count": 400,
   "metadata": {},
   "outputs": [
    {
     "name": "stdout",
     "output_type": "stream",
     "text": [
      "              precision    recall  f1-score   support\n",
      "\n",
      "           0       0.95      0.96      0.96       789\n",
      "           1       0.97      0.95      0.96       969\n",
      "           2       0.89      0.91      0.90       810\n",
      "           3       0.90      0.87      0.89       912\n",
      "           4       0.95      0.88      0.91       849\n",
      "           5       0.96      0.81      0.88       750\n",
      "           6       0.96      0.95      0.96       824\n",
      "           7       0.96      0.87      0.91       898\n",
      "           8       0.74      0.93      0.82       780\n",
      "           9       0.82      0.92      0.87       819\n",
      "\n",
      "    accuracy                           0.91      8400\n",
      "   macro avg       0.91      0.90      0.90      8400\n",
      "weighted avg       0.91      0.91      0.91      8400\n",
      "\n"
     ]
    }
   ],
   "source": [
    "## Print the classification report\n",
    "\n",
    "print(classification_report(y_test, y_hat, labels=range(0,10)))\n"
   ]
  },
  {
   "cell_type": "code",
   "execution_count": 410,
   "metadata": {
    "scrolled": true
   },
   "outputs": [
    {
     "name": "stdout",
     "output_type": "stream",
     "text": [
      "              precision    recall  f1-score   support\n",
      "\n",
      "           0       0.95      0.96      0.96       789\n",
      "           1       0.97      0.95      0.96       969\n",
      "           2       0.89      0.91      0.90       810\n",
      "           3       0.90      0.87      0.89       912\n",
      "           4       0.95      0.88      0.91       849\n",
      "           5       0.96      0.81      0.88       750\n",
      "           6       0.96      0.95      0.96       824\n",
      "           7       0.96      0.87      0.91       898\n",
      "           8       0.74      0.93      0.82       780\n",
      "           9       0.82      0.92      0.87       819\n",
      "\n",
      "    accuracy                           0.91      8400\n",
      "   macro avg       0.91      0.90      0.90      8400\n",
      "weighted avg       0.91      0.91      0.91      8400\n",
      "\n"
     ]
    }
   ],
   "source": [
    "print(classification_report(y_test, y_hat, labels=range(0,10)))\n"
   ]
  },
  {
   "cell_type": "code",
   "execution_count": 411,
   "metadata": {},
   "outputs": [],
   "source": [
    "dataclassificationreport =classification_report(y_test, y_hat, labels=range(0,10))"
   ]
  },
  {
   "cell_type": "code",
   "execution_count": 464,
   "metadata": {},
   "outputs": [
    {
     "data": {
      "text/plain": [
       "array([[761,   0,   7,   5,   0,   1,   5,   0,  10,   0],\n",
       "       [  0, 917,  18,   3,   4,   0,   3,   1,  20,   3],\n",
       "       [  3,   3, 734,  18,   4,   0,   4,   1,  43,   0],\n",
       "       [  6,   2,  18, 792,   2,   8,   0,   4,  68,  12],\n",
       "       [  1,   1,  16,   2, 744,   1,   9,   7,  17,  51],\n",
       "       [ 13,   1,   7,  33,   5, 606,   7,   0,  65,  13],\n",
       "       [  8,   1,   1,   0,   1,  12, 786,   0,  15,   0],\n",
       "       [  3,   2,   9,   2,  10,   0,   0, 783,   7,  82],\n",
       "       [  4,  13,  10,  17,   2,   1,   4,   0, 723,   6],\n",
       "       [  4,   1,   4,   4,  13,   0,   0,  23,  14, 756]], dtype=int64)"
      ]
     },
     "execution_count": 464,
     "metadata": {},
     "output_type": "execute_result"
    }
   ],
   "source": [
    "\n",
    "## print he Confusion matrix \n",
    "\n",
    "cm = confusion_matrix(y_test, y_hat)\n",
    "cm"
   ]
  },
  {
   "cell_type": "code",
   "execution_count": 465,
   "metadata": {},
   "outputs": [
    {
     "name": "stdout",
     "output_type": "stream",
     "text": [
      "col_0    0    1    2    3    4    5    6    7    8    9\n",
      "row_0                                                  \n",
      "0      761    0    7    5    0    1    5    0   10    0\n",
      "1        0  917   18    3    4    0    3    1   20    3\n",
      "2        3    3  734   18    4    0    4    1   43    0\n",
      "3        6    2   18  792    2    8    0    4   68   12\n",
      "4        1    1   16    2  744    1    9    7   17   51\n",
      "5       13    1    7   33    5  606    7    0   65   13\n",
      "6        8    1    1    0    1   12  786    0   15    0\n",
      "7        3    2    9    2   10    0    0  783    7   82\n",
      "8        4   13   10   17    2    1    4    0  723    6\n",
      "9        4    1    4    4   13    0    0   23   14  756\n"
     ]
    }
   ],
   "source": [
    "df_confusion = pd.crosstab(y_test, y_hat)\n",
    "print (df_confusion)"
   ]
  },
  {
   "cell_type": "code",
   "execution_count": 469,
   "metadata": {},
   "outputs": [
    {
     "data": {
      "text/plain": [
       "(8400,)"
      ]
     },
     "execution_count": 469,
     "metadata": {},
     "output_type": "execute_result"
    }
   ],
   "source": [
    "b=y_test.shape\n",
    "b"
   ]
  },
  {
   "cell_type": "code",
   "execution_count": 468,
   "metadata": {},
   "outputs": [
    {
     "data": {
      "text/plain": [
       "7602"
      ]
     },
     "execution_count": 468,
     "metadata": {},
     "output_type": "execute_result"
    }
   ],
   "source": [
    "a=sum(np.diagonal(df_confusion))\n",
    "a"
   ]
  },
  {
   "cell_type": "code",
   "execution_count": 462,
   "metadata": {},
   "outputs": [
    {
     "data": {
      "text/plain": [
       "array([90.5])"
      ]
     },
     "execution_count": 462,
     "metadata": {},
     "output_type": "execute_result"
    }
   ],
   "source": [
    "a/b*100"
   ]
  },
  {
   "cell_type": "code",
   "execution_count": 429,
   "metadata": {},
   "outputs": [],
   "source": [
    "#df_confusion.to_html('your_output_file_name.html')\n"
   ]
  },
  {
   "cell_type": "code",
   "execution_count": 430,
   "metadata": {},
   "outputs": [],
   "source": [
    "#df_confusion.to_csv('your_output_file_name.csv')\n"
   ]
  },
  {
   "cell_type": "code",
   "execution_count": null,
   "metadata": {},
   "outputs": [],
   "source": []
  },
  {
   "cell_type": "code",
   "execution_count": null,
   "metadata": {},
   "outputs": [],
   "source": []
  },
  {
   "cell_type": "code",
   "execution_count": 200,
   "metadata": {},
   "outputs": [],
   "source": [
    "#####################################################################################\n",
    "#####################################################################################\n",
    "#####################################################################################"
   ]
  },
  {
   "cell_type": "code",
   "execution_count": null,
   "metadata": {},
   "outputs": [],
   "source": []
  },
  {
   "cell_type": "code",
   "execution_count": 29,
   "metadata": {},
   "outputs": [],
   "source": [
    "# DataFrame column names as a list\n",
    "#colnamelist = list(uspsdata.columns)"
   ]
  },
  {
   "cell_type": "code",
   "execution_count": 54,
   "metadata": {},
   "outputs": [],
   "source": [
    "# brings the first column in the last place\n",
    "#newcollist= colnamelist[1:] + colnamelist[:1]\n",
    "#newcollist"
   ]
  },
  {
   "cell_type": "code",
   "execution_count": 75,
   "metadata": {},
   "outputs": [],
   "source": [
    "#data in the format (X,y) where X are features and y is class \n",
    "#digitdata = uspsdata[newcollist]\n",
    "#digitdata.head(1)"
   ]
  },
  {
   "cell_type": "code",
   "execution_count": 72,
   "metadata": {},
   "outputs": [],
   "source": [
    "#seperating the data into X and y\n",
    "#data=digitdata.to_numpy()\n"
   ]
  },
  {
   "cell_type": "code",
   "execution_count": null,
   "metadata": {},
   "outputs": [],
   "source": []
  },
  {
   "cell_type": "code",
   "execution_count": null,
   "metadata": {},
   "outputs": [],
   "source": []
  },
  {
   "cell_type": "code",
   "execution_count": null,
   "metadata": {},
   "outputs": [],
   "source": []
  },
  {
   "cell_type": "code",
   "execution_count": null,
   "metadata": {},
   "outputs": [],
   "source": []
  }
 ],
 "metadata": {
  "kernelspec": {
   "display_name": "Python 3",
   "language": "python",
   "name": "python3"
  },
  "language_info": {
   "codemirror_mode": {
    "name": "ipython",
    "version": 3
   },
   "file_extension": ".py",
   "mimetype": "text/x-python",
   "name": "python",
   "nbconvert_exporter": "python",
   "pygments_lexer": "ipython3",
   "version": "3.7.4"
  }
 },
 "nbformat": 4,
 "nbformat_minor": 2
}
